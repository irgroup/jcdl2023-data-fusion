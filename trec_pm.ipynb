{
  "cells": [
    {
      "cell_type": "markdown",
      "metadata": {
        "id": "asGTIF40fmLI"
      },
      "source": [
        "This notebook compares the rankings of systems (ROS) between editorial relevance labels and citation counts. The code below mainly uses the from the \"Scientific Abstracts\" task at TREC Precision Medicine 2017. "
      ]
    },
    {
      "cell_type": "markdown",
      "metadata": {
        "id": "vKo8862xY1ez"
      },
      "source": [
        "**Download TREC Precision Medicine run files.** "
      ]
    },
    {
      "cell_type": "code",
      "execution_count": 8,
      "metadata": {
        "colab": {
          "base_uri": "https://localhost:8080/"
        },
        "id": "ElomTfbOYlKM",
        "outputId": "153d3807-2be5-4c71-c627-22ccd63a5414"
      },
      "outputs": [
        {
          "name": "stdout",
          "output_type": "stream",
          "text": [
            "--2022-11-14 09:11:59--  https://th-koeln.sciebo.de/s/JTTV4fxFmuCGMeY/download\n",
            "Resolving th-koeln.sciebo.de (th-koeln.sciebo.de)... 128.176.1.2\n",
            "Connecting to th-koeln.sciebo.de (th-koeln.sciebo.de)|128.176.1.2|:443... connected.\n",
            "HTTP request sent, awaiting response... 200 OK\n",
            "Length: 224988232 (215M) [application/octet-stream]\n",
            "Saving to: ‘trec-pm.tar.xz’\n",
            "\n",
            "trec-pm.tar.xz      100%[===================>] 214.57M  19.6MB/s    in 12s     \n",
            "\n",
            "2022-11-14 09:12:12 (17.5 MB/s) - ‘trec-pm.tar.xz’ saved [224988232/224988232]\n",
            "\n",
            "--2022-11-14 09:12:12--  http://trec-pm.tar.xz/\n",
            "Resolving trec-pm.tar.xz (trec-pm.tar.xz)... failed: Name or service not known.\n",
            "wget: unable to resolve host address ‘trec-pm.tar.xz’\n",
            "FINISHED --2022-11-14 09:12:12--\n",
            "Total wall clock time: 13s\n",
            "Downloaded: 1 files, 215M in 12s (17.5 MB/s)\n"
          ]
        }
      ],
      "source": [
        "!wget -O trec-pm.tar.xz https://th-koeln.sciebo.de/s/JTTV4fxFmuCGMeY/download trec-pm.tar.xz\n",
        "!tar -xf trec-pm.tar.xz"
      ]
    },
    {
      "cell_type": "markdown",
      "metadata": {
        "id": "rdk1KXL9bIWX"
      },
      "source": [
        "**The directory includes the qrels and all runs submitted to the \"Scientific Abstracts\" and \"Clinical Trials\" tracks at TREC PM 2017-19**\n",
        "\n",
        "see also: https://trec.nist.gov/data/precmed.html"
      ]
    },
    {
      "cell_type": "code",
      "execution_count": 12,
      "metadata": {
        "colab": {
          "base_uri": "https://localhost:8080/"
        },
        "id": "o_cfFGlwax3G",
        "outputId": "7b3024de-e079-495e-ef74-c1077b37d171"
      },
      "outputs": [
        {
          "name": "stdout",
          "output_type": "stream",
          "text": [
            "trec-pm-2017-abstracts\ttrec-pm-2018-abstracts\ttrec-pm-2019-abstracts\n",
            "trec-pm-2017-cds\ttrec-pm-2018-cds\ttrec-pm-2019-cds\n"
          ]
        }
      ],
      "source": [
        "!ls trec-pm"
      ]
    },
    {
      "cell_type": "markdown",
      "metadata": {
        "id": "d2Hon9oZZEzJ"
      },
      "source": [
        "**Download Dirk's citation and altmetric data.**"
      ]
    },
    {
      "cell_type": "code",
      "execution_count": 11,
      "metadata": {
        "colab": {
          "base_uri": "https://localhost:8080/"
        },
        "id": "PQDkdXUIY__S",
        "outputId": "940691e2-b8fb-4247-a039-5656067d1fa4"
      },
      "outputs": [
        {
          "name": "stdout",
          "output_type": "stream",
          "text": [
            "--2022-11-14 09:13:54--  https://th-koeln.sciebo.de/s/BRolGxMzrCipoTT/download\n",
            "Resolving th-koeln.sciebo.de (th-koeln.sciebo.de)... 128.176.1.2\n",
            "Connecting to th-koeln.sciebo.de (th-koeln.sciebo.de)|128.176.1.2|:443... connected.\n",
            "HTTP request sent, awaiting response... 200 OK\n",
            "Length: 2054660 (2.0M) [application/octet-stream]\n",
            "Saving to: ‘bibliometric.tar.xz’\n",
            "\n",
            "bibliometric.tar.xz 100%[===================>]   1.96M  1.82MB/s    in 1.1s    \n",
            "\n",
            "2022-11-14 09:13:56 (1.82 MB/s) - ‘bibliometric.tar.xz’ saved [2054660/2054660]\n",
            "\n"
          ]
        }
      ],
      "source": [
        "!wget -O bibliometric.tar.xz https://th-koeln.sciebo.de/s/BRolGxMzrCipoTT/download\n",
        "!tar -xf bibliometric.tar.xz"
      ]
    },
    {
      "cell_type": "markdown",
      "metadata": {
        "id": "186vihTtdhxZ"
      },
      "source": [
        "**Make a qrels file from the citation data. The following code uses simple criteria to make multi-graded labels from the citation count and writes them into a file 'qrels.cite'.**\n",
        "- 2: if the number of citations is higher than twice the mean of all citations\n",
        "- 0: if the number of citations is lower than the mean of all citations\n",
        "- 1: the ones in between"
      ]
    },
    {
      "cell_type": "code",
      "execution_count": 22,
      "metadata": {
        "colab": {
          "base_uri": "https://localhost:8080/"
        },
        "id": "ZtUlk-D7bPQg",
        "outputId": "7a4ea140-ff79-4622-9051-2c1f3dde692d"
      },
      "outputs": [
        {
          "name": "stderr",
          "output_type": "stream",
          "text": [
            "/usr/local/lib/python3.7/dist-packages/IPython/core/interactiveshell.py:3326: DtypeWarning: Columns (2,5,7,8,9,10,12,13,14,15,16,18) have mixed types.Specify dtype option on import or set low_memory=False.\n",
            "  exec(code_obj, self.user_global_ns, self.user_ns)\n"
          ]
        }
      ],
      "source": [
        "import pandas as pd \n",
        "\n",
        "df = pd.read_csv('STI_Ergebnisse_final.txt', sep='\\t')\n",
        "\n",
        "_df = df[df['TC'].notna()]\n",
        "_df = _df[_df['TOPIC'].str.contains('2017', regex=False)]\n",
        "_df = _df[['TOPIC','PUBMED_ID', 'TC']]\n",
        "thresh = df[df['TC'].notna()]['TC'].mean()\n",
        "\n",
        "with open('qrels.cite', 'w') as f_out:\n",
        "\n",
        "    for row in _df.iterrows():\n",
        "\n",
        "        topic = row[1]['TOPIC'].split('-')[1]\n",
        "        pubmed_id = row[1]['PUBMED_ID']\n",
        "        citation_cnt = row[1]['TC']\n",
        "        rel = 1\n",
        "        \n",
        "        if citation_cnt >= 2*thresh:\n",
        "            rel = 2\n",
        "        if citation_cnt < thresh:\n",
        "            rel = 0\n",
        "            \n",
        "        line_out = ' '.join([topic, '0', str(pubmed_id), str(rel), '\\n'])\n",
        "                \n",
        "        f_out.write(line_out)"
      ]
    },
    {
      "cell_type": "markdown",
      "metadata": {
        "id": "w_53U0T7dvhQ"
      },
      "source": [
        "**Extract the run files and write them into a new directory.**"
      ]
    },
    {
      "cell_type": "code",
      "execution_count": 16,
      "metadata": {
        "id": "2unECHZ2bZI6"
      },
      "outputs": [],
      "source": [
        "import os\n",
        "import gzip\n",
        "\n",
        "def extract_runs(dir_in, dir_out):\n",
        "\n",
        "    os.makedirs(dir_out, exist_ok=True)\n",
        "\n",
        "    for root, dirs, files in os.walk(dir_in):\n",
        "        for file in files:\n",
        "            if file.endswith(\".gz\"):\n",
        "                run_name = file.split('.')[1]\n",
        "                with gzip.open(os.path.join(root, file), 'rb') as f_in:\n",
        "                    file_content = f_in.read()\n",
        "                    with open(dir_out + '/' + run_name, 'wb') as f_out:\n",
        "                        f_out.write(file_content) \n",
        "                          \n",
        "DIR_IN = 'trec-pm/trec-pm-2017-abstracts' \n",
        "DIR_OUT = 'runs/trec-pm-2017-abstracts'    \n",
        "                    \n",
        "extract_runs(DIR_IN, DIR_OUT)"
      ]
    },
    {
      "cell_type": "markdown",
      "metadata": {
        "id": "oeCDGTHqeaLu"
      },
      "source": [
        "**Install the super-fast evaluation toolkit ranx, which implements some trec_eval measures with the help of Python and numba.**\n",
        "\n",
        "see also: https://github.com/AmenRa/ranx or https://amenra.github.io/ranx/"
      ]
    },
    {
      "cell_type": "code",
      "execution_count": 18,
      "metadata": {
        "colab": {
          "base_uri": "https://localhost:8080/"
        },
        "id": "EE_42_5XblzA",
        "outputId": "c49f4dcc-28a1-4636-bab2-8ea3c73c1452"
      },
      "outputs": [
        {
          "name": "stdout",
          "output_type": "stream",
          "text": [
            "Looking in indexes: https://pypi.org/simple, https://us-python.pkg.dev/colab-wheels/public/simple/\n",
            "Collecting ranx\n",
            "  Downloading ranx-0.3.3-py3-none-any.whl (95 kB)\n",
            "\u001b[K     |████████████████████████████████| 95 kB 3.6 MB/s \n",
            "\u001b[?25hRequirement already satisfied: numpy in /usr/local/lib/python3.7/dist-packages (from ranx) (1.21.6)\n",
            "Requirement already satisfied: scipy>=1.6.0 in /usr/local/lib/python3.7/dist-packages (from ranx) (1.7.3)\n",
            "Requirement already satisfied: numba>=0.54.1 in /usr/local/lib/python3.7/dist-packages (from ranx) (0.56.4)\n",
            "Collecting orjson\n",
            "  Downloading orjson-3.8.1-cp37-cp37m-manylinux_2_17_x86_64.manylinux2014_x86_64.whl (272 kB)\n",
            "\u001b[K     |████████████████████████████████| 272 kB 17.8 MB/s \n",
            "\u001b[?25hCollecting lz4\n",
            "  Downloading lz4-4.0.2-cp37-cp37m-manylinux_2_17_x86_64.manylinux2014_x86_64.whl (1.2 MB)\n",
            "\u001b[K     |████████████████████████████████| 1.2 MB 57.3 MB/s \n",
            "\u001b[?25hCollecting ir-datasets\n",
            "  Downloading ir_datasets-0.5.4-py3-none-any.whl (311 kB)\n",
            "\u001b[K     |████████████████████████████████| 311 kB 53.5 MB/s \n",
            "\u001b[?25hRequirement already satisfied: pandas in /usr/local/lib/python3.7/dist-packages (from ranx) (1.3.5)\n",
            "Collecting cbor2\n",
            "  Downloading cbor2-5.4.3-cp37-cp37m-manylinux_2_17_x86_64.manylinux2014_x86_64.whl (190 kB)\n",
            "\u001b[K     |████████████████████████████████| 190 kB 63.3 MB/s \n",
            "\u001b[?25hRequirement already satisfied: tqdm in /usr/local/lib/python3.7/dist-packages (from ranx) (4.64.1)\n",
            "Collecting rich\n",
            "  Downloading rich-12.6.0-py3-none-any.whl (237 kB)\n",
            "\u001b[K     |████████████████████████████████| 237 kB 51.4 MB/s \n",
            "\u001b[?25hRequirement already satisfied: tabulate in /usr/local/lib/python3.7/dist-packages (from ranx) (0.8.10)\n",
            "Requirement already satisfied: statsmodels in /usr/local/lib/python3.7/dist-packages (from ranx) (0.12.2)\n",
            "Requirement already satisfied: importlib-metadata in /usr/local/lib/python3.7/dist-packages (from numba>=0.54.1->ranx) (4.13.0)\n",
            "Requirement already satisfied: setuptools in /usr/local/lib/python3.7/dist-packages (from numba>=0.54.1->ranx) (57.4.0)\n",
            "Requirement already satisfied: llvmlite<0.40,>=0.39.0dev0 in /usr/local/lib/python3.7/dist-packages (from numba>=0.54.1->ranx) (0.39.1)\n",
            "Requirement already satisfied: typing-extensions>=3.6.4 in /usr/local/lib/python3.7/dist-packages (from importlib-metadata->numba>=0.54.1->ranx) (4.1.1)\n",
            "Requirement already satisfied: zipp>=0.5 in /usr/local/lib/python3.7/dist-packages (from importlib-metadata->numba>=0.54.1->ranx) (3.10.0)\n",
            "Collecting warc3-wet-clueweb09>=0.2.5\n",
            "  Downloading warc3-wet-clueweb09-0.2.5.tar.gz (17 kB)\n",
            "Collecting pyautocorpus>=0.1.1\n",
            "  Downloading pyautocorpus-0.1.9-cp37-cp37m-manylinux_2_12_x86_64.manylinux2010_x86_64.whl (294 kB)\n",
            "\u001b[K     |████████████████████████████████| 294 kB 55.8 MB/s \n",
            "\u001b[?25hCollecting trec-car-tools>=2.5.4\n",
            "  Downloading trec_car_tools-2.6-py3-none-any.whl (8.4 kB)\n",
            "Requirement already satisfied: pyyaml>=5.3.1 in /usr/local/lib/python3.7/dist-packages (from ir-datasets->ranx) (6.0)\n",
            "Collecting warc3-wet>=0.2.3\n",
            "  Downloading warc3_wet-0.2.3-py3-none-any.whl (13 kB)\n",
            "Requirement already satisfied: requests>=2.22.0 in /usr/local/lib/python3.7/dist-packages (from ir-datasets->ranx) (2.23.0)\n",
            "Collecting unlzw3>=0.2.1\n",
            "  Downloading unlzw3-0.2.1.tar.gz (5.8 kB)\n",
            "  Installing build dependencies ... \u001b[?25l\u001b[?25hdone\n",
            "  Getting requirements to build wheel ... \u001b[?25l\u001b[?25hdone\n",
            "    Preparing wheel metadata ... \u001b[?25l\u001b[?25hdone\n",
            "Requirement already satisfied: beautifulsoup4>=4.4.1 in /usr/local/lib/python3.7/dist-packages (from ir-datasets->ranx) (4.6.3)\n",
            "Collecting zlib-state>=0.1.3\n",
            "  Downloading zlib_state-0.1.5-cp37-cp37m-manylinux2010_x86_64.whl (72 kB)\n",
            "\u001b[K     |████████████████████████████████| 72 kB 1.8 MB/s \n",
            "\u001b[?25hCollecting ijson>=3.1.3\n",
            "  Downloading ijson-3.1.4-cp37-cp37m-manylinux2010_x86_64.whl (126 kB)\n",
            "\u001b[K     |████████████████████████████████| 126 kB 50.7 MB/s \n",
            "\u001b[?25hRequirement already satisfied: lxml>=4.5.2 in /usr/local/lib/python3.7/dist-packages (from ir-datasets->ranx) (4.9.1)\n",
            "Requirement already satisfied: idna<3,>=2.5 in /usr/local/lib/python3.7/dist-packages (from requests>=2.22.0->ir-datasets->ranx) (2.10)\n",
            "Requirement already satisfied: urllib3!=1.25.0,!=1.25.1,<1.26,>=1.21.1 in /usr/local/lib/python3.7/dist-packages (from requests>=2.22.0->ir-datasets->ranx) (1.24.3)\n",
            "Requirement already satisfied: chardet<4,>=3.0.2 in /usr/local/lib/python3.7/dist-packages (from requests>=2.22.0->ir-datasets->ranx) (3.0.4)\n",
            "Requirement already satisfied: certifi>=2017.4.17 in /usr/local/lib/python3.7/dist-packages (from requests>=2.22.0->ir-datasets->ranx) (2022.9.24)\n",
            "Collecting cbor>=1.0.0\n",
            "  Downloading cbor-1.0.0.tar.gz (20 kB)\n",
            "Requirement already satisfied: pytz>=2017.3 in /usr/local/lib/python3.7/dist-packages (from pandas->ranx) (2022.6)\n",
            "Requirement already satisfied: python-dateutil>=2.7.3 in /usr/local/lib/python3.7/dist-packages (from pandas->ranx) (2.8.2)\n",
            "Requirement already satisfied: six>=1.5 in /usr/local/lib/python3.7/dist-packages (from python-dateutil>=2.7.3->pandas->ranx) (1.15.0)\n",
            "Collecting commonmark<0.10.0,>=0.9.0\n",
            "  Downloading commonmark-0.9.1-py2.py3-none-any.whl (51 kB)\n",
            "\u001b[K     |████████████████████████████████| 51 kB 8.9 MB/s \n",
            "\u001b[?25hRequirement already satisfied: pygments<3.0.0,>=2.6.0 in /usr/local/lib/python3.7/dist-packages (from rich->ranx) (2.6.1)\n",
            "Requirement already satisfied: patsy>=0.5 in /usr/local/lib/python3.7/dist-packages (from statsmodels->ranx) (0.5.3)\n",
            "Building wheels for collected packages: cbor, unlzw3, warc3-wet-clueweb09\n",
            "  Building wheel for cbor (setup.py) ... \u001b[?25l\u001b[?25hdone\n",
            "  Created wheel for cbor: filename=cbor-1.0.0-cp37-cp37m-linux_x86_64.whl size=51294 sha256=c1c9d87ac5592d70e62560213f27536a1b9f49bb1da9886b57f2f4cdc9ac1c40\n",
            "  Stored in directory: /root/.cache/pip/wheels/19/77/49/c9c2c8dc5848502e606e8579d0bbda18b850fb056a6c62239d\n",
            "  Building wheel for unlzw3 (PEP 517) ... \u001b[?25l\u001b[?25hdone\n",
            "  Created wheel for unlzw3: filename=unlzw3-0.2.1-py3-none-any.whl size=6082 sha256=bbc79c0ab7ece281aca7321ae9c620e87ad561c2a8d414b66bbb9ed3d15d48a4\n",
            "  Stored in directory: /root/.cache/pip/wheels/e1/3c/d9/e33962c8aad8999dc5560b6e71baafa2335c269f532f5e176a\n",
            "  Building wheel for warc3-wet-clueweb09 (setup.py) ... \u001b[?25l\u001b[?25hdone\n",
            "  Created wheel for warc3-wet-clueweb09: filename=warc3_wet_clueweb09-0.2.5-py3-none-any.whl size=18922 sha256=5d4642ebcc6712456e083517a2bb2396030e8a0c4bdc7f36cccc5397473cba3f\n",
            "  Stored in directory: /root/.cache/pip/wheels/42/d4/3c/7c2b0c3d400ad744e4db69f2fde166655da2ed2198bfc02db6\n",
            "Successfully built cbor unlzw3 warc3-wet-clueweb09\n",
            "Installing collected packages: cbor, zlib-state, warc3-wet-clueweb09, warc3-wet, unlzw3, trec-car-tools, pyautocorpus, lz4, ijson, commonmark, rich, orjson, ir-datasets, cbor2, ranx\n",
            "Successfully installed cbor-1.0.0 cbor2-5.4.3 commonmark-0.9.1 ijson-3.1.4 ir-datasets-0.5.4 lz4-4.0.2 orjson-3.8.1 pyautocorpus-0.1.9 ranx-0.3.3 rich-12.6.0 trec-car-tools-2.6 unlzw3-0.2.1 warc3-wet-0.2.3 warc3-wet-clueweb09-0.2.5 zlib-state-0.1.5\n"
          ]
        }
      ],
      "source": [
        "!pip install ranx"
      ]
    },
    {
      "cell_type": "markdown",
      "metadata": {
        "id": "LiKaoZSoemPT"
      },
      "source": [
        "**Make a reference system of rankings (ROS) from the qrels of the \"Scientific Abstracts\" task at TREC PM 2017.**\n",
        "\n",
        "The first time, it takes a while to run ranx as it needs to compile the source code. Latter executions will run much faster."
      ]
    },
    {
      "cell_type": "code",
      "execution_count": 23,
      "metadata": {
        "colab": {
          "base_uri": "https://localhost:8080/"
        },
        "id": "geF2aFQJbkOE",
        "outputId": "e56ba616-e590-4f20-adf6-2232f1e14df3"
      },
      "outputs": [
        {
          "data": {
            "text/plain": [
              "{'UTDHLTAF': 0.6811529021982724,\n",
              " 'UTDHLTFF': 0.6725106332676734,\n",
              " 'UD_GU_SA_4': 0.6181395015199264,\n",
              " 'mugpubboost': 0.6154718278121372,\n",
              " 'UD_GU_SA_5': 0.6123358953072634,\n",
              " 'mugpubbase': 0.6044095495078302,\n",
              " 'UD_GU_SA_3': 0.6028432779922607,\n",
              " 'UTDHLTSF': 0.5982230564812898,\n",
              " 'UD_GU_SA_2': 0.5972838729989333,\n",
              " 'UTDHLTJQ': 0.5902978038794592,\n",
              " 'UD_GU_SA_1': 0.5788208864645199,\n",
              " 'mRun3MRF': 0.5581057166719795,\n",
              " 'SIBTMlit4': 0.5475789306164868,\n",
              " 'UDInfoPMSA2': 0.539927045349584,\n",
              " 'mugpubdiseas': 0.530256562984943,\n",
              " 'SIBTMlit3': 0.5252097783297163,\n",
              " 'SIBTMlit2': 0.521742885780416,\n",
              " 'mRun1Bsl': 0.5150557133717655,\n",
              " 'SIBTMlit1': 0.5150323687339575,\n",
              " 'UKY_AGG': 0.5095888364139758,\n",
              " 'Textual': 0.5053800833840775,\n",
              " 'pms_run5_abs': 0.4984219381826194,\n",
              " 'UKY_CJT': 0.49711140771395873,\n",
              " 'UNTIIALQ': 0.49092363019842344,\n",
              " 'Semantic': 0.48638655196414843,\n",
              " 'Broad': 0.48638655196414843,\n",
              " 'mRun2BslOth': 0.4821345214151435,\n",
              " 'UKY_MAN': 0.48038558486828153,\n",
              " 'UKY_BASE': 0.480201489284041,\n",
              " 'SIBTMlit5': 0.47324130122576047,\n",
              " 'cbnuSA1': 0.4718670626086938,\n",
              " 'mRun4MRFrf': 0.4695248991767802,\n",
              " 'medline2': 0.4693170659562058,\n",
              " 'UDInfoPMSA7': 0.4678976420632894,\n",
              " 'UNTIIADW': 0.466074988538164,\n",
              " 'UWMSOIS5': 0.4634247878143229,\n",
              " 'medline3': 0.4592873445713385,\n",
              " 'mayonlppm1': 0.4579465108084538,\n",
              " 'Focused': 0.45681972052222,\n",
              " 'UNTIIASY': 0.44982517452363885,\n",
              " 'UCASSEM3a': 0.44532440801831275,\n",
              " 'medline5': 0.4448570332632148,\n",
              " 'pms_run1': 0.4406690875461783,\n",
              " 'medline4': 0.43913190716195744,\n",
              " 'pms_run3_abs': 0.4356077865909023,\n",
              " 'UCASBASEa': 0.4339396585347163,\n",
              " 'UDInfoPMSA3': 0.42950062022784163,\n",
              " 'KISTI04': 0.42885250974782135,\n",
              " 'mugpubshould': 0.42826469279199897,\n",
              " 'udelT1Gene': 0.4273774470499302,\n",
              " 'KISTI02': 0.4238963199700484,\n",
              " 'mayonlppm3': 0.4199313351029325,\n",
              " 'mayonlppm5': 0.4199313351029325,\n",
              " 'ECNU_M_5': 0.41768705036648485,\n",
              " 'ECNU_M_1': 0.41592877934908407,\n",
              " 'UWMSOIS7': 0.4139994836911159,\n",
              " 'mayonlppm2': 0.41345800210536615,\n",
              " 'UWMSOIS6': 0.41307707313595954,\n",
              " 'UWMSOIS9': 0.4129392578203516,\n",
              " 'UCASSEM1a': 0.4105686800823315,\n",
              " 'udelT1GeMeSH': 0.4097829139490646,\n",
              " 'UWMSOIS8': 0.4067077932529234,\n",
              " 'udelT1Base': 0.40633418642180186,\n",
              " 'POZabsBB2sn': 0.40425557572611376,\n",
              " 'Ontological': 0.4030566445250436,\n",
              " 'KISTI01': 0.3988725513179484,\n",
              " 'mayonlppm4': 0.3985939128863747,\n",
              " 'KISTI05': 0.3975517207868036,\n",
              " 'mugpubgene': 0.39395590421468774,\n",
              " 'UCASSEM2a': 0.3911625414614507,\n",
              " 'ECNU_M_2': 0.38894150212814266,\n",
              " 'KISTI03': 0.3874219682507215,\n",
              " 'UCASSEMUMLSa': 0.3872977741067473,\n",
              " 'udelT1Comb': 0.3843793263014442,\n",
              " 'aCSIROmedNEG': 0.38348435327764535,\n",
              " 'eth_a_ws': 0.36227402605559483,\n",
              " 'ECNU_M_3': 0.36181000263445023,\n",
              " 'udelT1PRF': 0.3608532743249035,\n",
              " 'POZabsBB2GRn': 0.3585776555346242,\n",
              " 'aCSIROmedAll': 0.3479157128627918,\n",
              " 'medline1': 0.34712063427971945,\n",
              " 'eth_a_luc': 0.34586529766241525,\n",
              " 'UDInfoPMSA5': 0.3320692990086487,\n",
              " 'SDSFU_Ensem': 0.32835418970674923,\n",
              " 'eth_a_nn': 0.32696910109838206,\n",
              " 'MedIER_sa4': 0.31826360089557537,\n",
              " 'NOVAsa2': 0.3141859663037894,\n",
              " 'UKY_COM': 0.30182749544461823,\n",
              " 'eth_a_ws_q': 0.3016572101595743,\n",
              " 'pms_run4_abs': 0.3010110805830076,\n",
              " 'POZabsLGDGRn': 0.3006132415007191,\n",
              " 'SDSFU_PF_SA': 0.29919290179109814,\n",
              " 'MedIER_sa1': 0.2933060258157974,\n",
              " 'SDSFU_PU_SA': 0.29086828462270115,\n",
              " 'ECNU_M_4': 0.2908625338539849,\n",
              " 'aCSIROmedPCB': 0.2886872505385594,\n",
              " 'NOVAsa3': 0.2886233656607215,\n",
              " 'MedIER_sa3': 0.28316493355481553,\n",
              " 'UTDHLTSQ': 0.2766615017256699,\n",
              " 'SDSFU_Lambda': 0.27629845326255514,\n",
              " 'MedIER_sa2': 0.2750289840904937,\n",
              " 'kkseabs1': 0.2662561219992437,\n",
              " 'UDInfoPMSA6': 0.2604488008555472,\n",
              " 'aCSIROmedMCB': 0.25162740384287663,\n",
              " 'NOVAsa1': 0.24717102229499727,\n",
              " 'UNTIIAGA': 0.24189930764780446,\n",
              " 'aCSIROmedMGB': 0.2219507843986243,\n",
              " 'mRun5MRFBow': 0.2196408612602342,\n",
              " 'SDSFU_Jnal': 0.21670776171266065,\n",
              " 'UNTIIAIS': 0.19131995696905116,\n",
              " 'DUTIR003': 0.18686083674253087,\n",
              " 'pms_run2_abs': 0.1819487242978947,\n",
              " 'cbnuSA3': 0.115051687643152,\n",
              " 'cbnuSA2': 0.10730257196129171,\n",
              " 'kkseabs4': 0.10498259043769512,\n",
              " 'kkseabs3': 0.0985461952566648,\n",
              " 'eth_a_gws': 0.09410638783004828,\n",
              " 'GP16Medline': 0.06649612466568226,\n",
              " 'Gwave': 0.06017337492759019,\n",
              " 'ielabRun22': 0.060026172671638324,\n",
              " 'ielabRun23': 0.048596973801264355,\n",
              " 'GP14Medline': 0.04250575786040476,\n",
              " 'ielabRun1': 0.026177118097149867,\n",
              " 'ielabRun21': 0.008747005167489452,\n",
              " 'ielabRun3': 0.0}"
            ]
          },
          "execution_count": 23,
          "metadata": {},
          "output_type": "execute_result"
        }
      ],
      "source": [
        "from ranx import Qrels, Run, evaluate, compare\n",
        "\n",
        "DIR_RUN = DIR_OUT\n",
        "PATH_QRELS = \"trec-pm/trec-pm-2017-abstracts/qrels-final-abstracts.txt\"\n",
        "\n",
        "qrels = Qrels.from_file(PATH_QRELS, kind=\"trec\")\n",
        "\n",
        "ros_ref = {}\n",
        "\n",
        "for root, dirs, files in os.walk(DIR_RUN):\n",
        "    for file in files:\n",
        "        run = Run.from_file(os.path.join(root, file), kind=\"trec\")\n",
        "        score = evaluate(qrels, run, \"ndcg@5\")\n",
        "        ros_ref[file] = score\n",
        "\n",
        "ros_ref = dict(sorted(ros_ref.items(), key=lambda item: item[1], reverse=True))\n",
        "ros_ref"
      ]
    },
    {
      "cell_type": "markdown",
      "metadata": {
        "id": "nIn0j_u7fCsg"
      },
      "source": [
        "**Make the corresponding ROS based on citation data.**"
      ]
    },
    {
      "cell_type": "code",
      "execution_count": 20,
      "metadata": {
        "colab": {
          "base_uri": "https://localhost:8080/"
        },
        "id": "WTgMQWOAb0bq",
        "outputId": "196399d9-e28f-43ef-a6d1-c5bd22eceb79"
      },
      "outputs": [
        {
          "data": {
            "text/plain": [
              "{'aCSIROmedPCB': 0.6493167976727501,\n",
              " 'aCSIROmedMGB': 0.6053074946640554,\n",
              " 'SIBTMlit5': 0.38383884132283996,\n",
              " 'aCSIROmedAll': 0.2974447259065918,\n",
              " 'UCASSEM2a': 0.2797739040676953,\n",
              " 'eth_a_ws_q': 0.27821257571120106,\n",
              " 'POZabsBB2GRn': 0.2721619174306273,\n",
              " 'pms_run1': 0.263247431177043,\n",
              " 'UCASSEM3a': 0.2593835280046743,\n",
              " 'UCASSEM1a': 0.25852568462190545,\n",
              " 'UCASSEMUMLSa': 0.25626891027860293,\n",
              " 'KISTI04': 0.2554851851854662,\n",
              " 'UTDHLTAF': 0.25231367471768124,\n",
              " 'mayonlppm4': 0.25099088482202425,\n",
              " 'KISTI02': 0.24993303404712683,\n",
              " 'cbnuSA3': 0.2491767515698897,\n",
              " 'UCASBASEa': 0.24749856536608092,\n",
              " 'medline2': 0.24681841632105544,\n",
              " 'medline3': 0.2447797577516258,\n",
              " 'SIBTMlit4': 0.2435636048189697,\n",
              " 'UTDHLTFF': 0.2421077773003898,\n",
              " 'eth_a_nn': 0.24044592999434128,\n",
              " 'MedIER_sa3': 0.24043250052198406,\n",
              " 'KISTI03': 0.23706330841628834,\n",
              " 'mayonlppm1': 0.23702363358982811,\n",
              " 'KISTI05': 0.23012841372568882,\n",
              " 'mayonlppm2': 0.22724502681787664,\n",
              " 'kkseabs1': 0.2232969474100465,\n",
              " 'pms_run5_abs': 0.22311327891567803,\n",
              " 'POZabsBB2sn': 0.2228584015570805,\n",
              " 'cbnuSA2': 0.21917115839914275,\n",
              " 'MedIER_sa1': 0.21899040696284233,\n",
              " 'mayonlppm3': 0.2163783839845421,\n",
              " 'mayonlppm5': 0.2163783839845421,\n",
              " 'cbnuSA1': 0.2156919654365834,\n",
              " 'MedIER_sa4': 0.21226982433788943,\n",
              " 'SIBTMlit1': 0.21157640112632586,\n",
              " 'mugpubdiseas': 0.21024048855361738,\n",
              " 'Ontological': 0.20920583366693096,\n",
              " 'UKY_AGG': 0.20808393018089585,\n",
              " 'pms_run3_abs': 0.20771862360006874,\n",
              " 'ECNU_M_2': 0.2074547149862891,\n",
              " 'UWMSOIS5': 0.20374704150872172,\n",
              " 'eth_a_ws': 0.202645727464468,\n",
              " 'medline5': 0.20226698759495104,\n",
              " 'KISTI01': 0.20215625539374832,\n",
              " 'eth_a_luc': 0.1978539616742328,\n",
              " 'UKY_CJT': 0.19681521154934437,\n",
              " 'SIBTMlit3': 0.19664072198331217,\n",
              " 'medline4': 0.1963331909780244,\n",
              " 'SIBTMlit2': 0.19560927568466938,\n",
              " 'UKY_MAN': 0.19467207883264756,\n",
              " 'mugpubgene': 0.186722220597987,\n",
              " 'pms_run4_abs': 0.18613326771735797,\n",
              " 'ECNU_M_5': 0.18212418888061463,\n",
              " 'mRun2BslOth': 0.18185312793007605,\n",
              " 'UTDHLTSQ': 0.1798542918602606,\n",
              " 'UKY_BASE': 0.17980745706437637,\n",
              " 'udelT1Gene': 0.17937503304118954,\n",
              " 'mugpubshould': 0.17863493033956085,\n",
              " 'mRun1Bsl': 0.17833337349089823,\n",
              " 'udelT1GeMeSH': 0.1751761676966311,\n",
              " 'ECNU_M_4': 0.17509898849210945,\n",
              " 'UWMSOIS7': 0.17496796982809867,\n",
              " 'UDInfoPMSA6': 0.17426842860308842,\n",
              " 'ECNU_M_1': 0.17382988656645498,\n",
              " 'medline1': 0.1694594410812673,\n",
              " 'ECNU_M_3': 0.16769811296530943,\n",
              " 'Textual': 0.16687777014426955,\n",
              " 'mugpubboost': 0.16611126296638623,\n",
              " 'UWMSOIS8': 0.16452965577974898,\n",
              " 'UWMSOIS6': 0.16344131292306002,\n",
              " 'mRun3MRF': 0.16273476703444498,\n",
              " 'Semantic': 0.16111757644321684,\n",
              " 'Broad': 0.16111757644321684,\n",
              " 'UWMSOIS9': 0.15796940190413186,\n",
              " 'MedIER_sa2': 0.15728723390019425,\n",
              " 'udelT1Comb': 0.15594401368490773,\n",
              " 'mugpubbase': 0.15582715583759332,\n",
              " 'NOVAsa2': 0.1556192647643666,\n",
              " 'mRun4MRFrf': 0.15472174273880504,\n",
              " 'udelT1PRF': 0.15401198826214632,\n",
              " 'UNTIIALQ': 0.1522872702414266,\n",
              " 'mRun5MRFBow': 0.1510811828872649,\n",
              " 'POZabsLGDGRn': 0.15056956070064426,\n",
              " 'Focused': 0.14661432132339003,\n",
              " 'aCSIROmedNEG': 0.14269657869153213,\n",
              " 'eth_a_gws': 0.13991708225980212,\n",
              " 'UNTIIADW': 0.13714749228441486,\n",
              " 'pms_run2_abs': 0.13426425686608937,\n",
              " 'UKY_COM': 0.13410990227337857,\n",
              " 'GP16Medline': 0.132770924969448,\n",
              " 'UDInfoPMSA5': 0.13250992959740385,\n",
              " 'UNTIIASY': 0.1315587234181723,\n",
              " 'udelT1Base': 0.13047650239126252,\n",
              " 'UDInfoPMSA7': 0.127526456325883,\n",
              " 'UTDHLTSF': 0.12695689562523876,\n",
              " 'UDInfoPMSA3': 0.1269374996289215,\n",
              " 'UD_GU_SA_2': 0.12374264178343887,\n",
              " 'UTDHLTJQ': 0.12209495529408675,\n",
              " 'UD_GU_SA_4': 0.12166253127089989,\n",
              " 'UD_GU_SA_1': 0.12108685255680902,\n",
              " 'UDInfoPMSA2': 0.11761787284589822,\n",
              " 'NOVAsa3': 0.11681080800772896,\n",
              " 'UD_GU_SA_5': 0.11633185216763108,\n",
              " 'UD_GU_SA_3': 0.1162778650349879,\n",
              " 'Gwave': 0.11335816719457834,\n",
              " 'ielabRun22': 0.10415627727636267,\n",
              " 'ielabRun23': 0.10231060998645912,\n",
              " 'aCSIROmedMCB': 0.10082339991959692,\n",
              " 'GP14Medline': 0.09908219914429545,\n",
              " 'DUTIR003': 0.09434732991210641,\n",
              " 'ielabRun1': 0.08878205609671554,\n",
              " 'SDSFU_Jnal': 0.08453532163296054,\n",
              " 'ielabRun3': 0.07706441923839784,\n",
              " 'UNTIIAIS': 0.07138840940547168,\n",
              " 'SDSFU_Lambda': 0.07026650973576913,\n",
              " 'NOVAsa1': 0.06789915086441792,\n",
              " 'SDSFU_Ensem': 0.06535700326439374,\n",
              " 'UNTIIAGA': 0.05773890243021174,\n",
              " 'SDSFU_PU_SA': 0.055113605285373374,\n",
              " 'ielabRun21': 0.0535156592009759,\n",
              " 'kkseabs3': 0.021783332866929624,\n",
              " 'kkseabs4': 0.020651367618732607,\n",
              " 'SDSFU_PF_SA': 0.015782422623975726}"
            ]
          },
          "execution_count": 20,
          "metadata": {},
          "output_type": "execute_result"
        }
      ],
      "source": [
        "PATH_QRELS_CITE = \"qrels.cite\"\n",
        "\n",
        "qrels = Qrels.from_file(PATH_QRELS_CITE, kind=\"trec\")\n",
        "\n",
        "ros_cite = {}\n",
        "\n",
        "for root, dirs, files in os.walk(DIR_RUN):\n",
        "    for file in files:\n",
        "        run = Run.from_file(os.path.join(root, file), kind=\"trec\")\n",
        "        score = evaluate(qrels, run, \"ndcg@5\")\n",
        "        ros_cite[file] = score\n",
        "\n",
        "ros_cite = dict(sorted(ros_cite.items(), key=lambda item: item[1], reverse=True))\n",
        "ros_cite"
      ]
    },
    {
      "cell_type": "markdown",
      "metadata": {
        "id": "iCwcEYwofNVv"
      },
      "source": [
        "**Determine Kendall's tau between the ROS.**"
      ]
    },
    {
      "cell_type": "code",
      "execution_count": 21,
      "metadata": {
        "colab": {
          "base_uri": "https://localhost:8080/"
        },
        "id": "Sm1ET7zvb3ud",
        "outputId": "236a1665-50a0-4e77-942a-a238f429c80b"
      },
      "outputs": [
        {
          "data": {
            "text/plain": [
              "0.10529032258064516"
            ]
          },
          "execution_count": 21,
          "metadata": {},
          "output_type": "execute_result"
        }
      ],
      "source": [
        "from scipy import stats\n",
        "\n",
        "tau, p_value = stats.kendalltau(list(ros_ref.keys()), list(ros_cite.keys()))\n",
        "tau"
      ]
    }
  ],
  "metadata": {
    "colab": {
      "authorship_tag": "ABX9TyM3SXFmlQvCB8xZK+C1EHLH",
      "include_colab_link": true,
      "provenance": []
    },
    "kernelspec": {
      "display_name": "Python 3",
      "name": "python3"
    },
    "language_info": {
      "name": "python"
    }
  },
  "nbformat": 4,
  "nbformat_minor": 0
}
